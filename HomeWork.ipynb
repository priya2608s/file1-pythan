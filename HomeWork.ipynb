{
 "cells": [
  {
   "cell_type": "code",
   "execution_count": 1,
   "id": "e3641bae-1c6a-44fd-b079-d30461dff85e",
   "metadata": {},
   "outputs": [
    {
     "name": "stdout",
     "output_type": "stream",
     "text": [
      "vibes\n"
     ]
    }
   ],
   "source": [
    "a='Brighter skies, Brighter vibes'\n",
    "print(a[25:30])"
   ]
  },
  {
   "cell_type": "code",
   "execution_count": 2,
   "id": "b9acdaa0-151d-4f9a-9176-7629a7986799",
   "metadata": {},
   "outputs": [
    {
     "name": "stdout",
     "output_type": "stream",
     "text": [
      "['pen', 'pencil', 'eraser', 'sharpner', 'marker']\n"
     ]
    }
   ],
   "source": [
    "mylist= ['pen','pencil','eraser','sharpner','marker']\n",
    "print (mylist)"
   ]
  },
  {
   "cell_type": "code",
   "execution_count": 3,
   "id": "04f350d3-ee5f-42f8-a4fb-4fa1441ffe34",
   "metadata": {},
   "outputs": [
    {
     "name": "stdout",
     "output_type": "stream",
     "text": [
      "['pen', 'pencil', 'eraser', 'Paper', 'sharpner', 'marker']\n"
     ]
    }
   ],
   "source": [
    "mylist.insert(3,'Paper')\n",
    "print(mylist)"
   ]
  },
  {
   "cell_type": "code",
   "execution_count": 4,
   "id": "794340d7-546c-4b39-a41e-2d5c468979fd",
   "metadata": {},
   "outputs": [
    {
     "name": "stdout",
     "output_type": "stream",
     "text": [
      "('pen', 'pencil', 'eraser', 'sharpner', 'marker')\n"
     ]
    }
   ],
   "source": [
    "mytuple=('pen', 'pencil', 'eraser', 'sharpner', 'marker')\n",
    "print (mytuple)"
   ]
  },
  {
   "cell_type": "code",
   "execution_count": 5,
   "id": "5523dae8-8b7f-43ea-b999-5109d229e5cd",
   "metadata": {},
   "outputs": [
    {
     "name": "stdout",
     "output_type": "stream",
     "text": [
      "{'2.Pencil', '1.Pen', '4.Sharpner', '3.Eraser', '5.Marker'}\n"
     ]
    }
   ],
   "source": [
    "mydict={\n",
    "    '1.Pen',\n",
    "    '2.Pencil',\n",
    "    '3.Eraser',\n",
    "    '4.Sharpner',\n",
    "    '5.Marker'\n",
    "}\n",
    "print (mydict)"
   ]
  },
  {
   "cell_type": "code",
   "execution_count": 6,
   "id": "ba1182a3-f30e-43ed-a6d0-e23e71c2b0a3",
   "metadata": {},
   "outputs": [
    {
     "name": "stdout",
     "output_type": "stream",
     "text": [
      "All Is Well\n"
     ]
    }
   ],
   "source": [
    "X=23\n",
    "Y=32\n",
    "if Y<X:\n",
    "    print(\"Hakuma Matata\")\n",
    "if Y>X:\n",
    "    print(\"All Is Well\")"
   ]
  },
  {
   "cell_type": "code",
   "execution_count": 7,
   "id": "93804f55-cb49-47b4-8ee5-64dc78284398",
   "metadata": {},
   "outputs": [
    {
     "name": "stdout",
     "output_type": "stream",
     "text": [
      "pen\n",
      "pencil\n",
      "eraser\n",
      "sharpner\n",
      "marker\n"
     ]
    }
   ],
   "source": [
    "Stationary_Things= ['pen', 'pencil', 'eraser', 'sharpner', 'marker']\n",
    "for x in Stationary_Things:\n",
    "    print(x)"
   ]
  },
  {
   "cell_type": "code",
   "execution_count": 8,
   "id": "86bab1aa-590f-40b1-8c8f-87379c301dfe",
   "metadata": {},
   "outputs": [
    {
     "name": "stdout",
     "output_type": "stream",
     "text": [
      "1\n",
      "2\n",
      "3\n",
      "4\n",
      "5\n",
      "6\n",
      "7\n"
     ]
    }
   ],
   "source": [
    "k=1\n",
    "while k<8:\n",
    "    print(k)\n",
    "    k+=1"
   ]
  },
  {
   "cell_type": "code",
   "execution_count": 9,
   "id": "76f2c25b-345a-4d4b-9ae4-b06a03555829",
   "metadata": {},
   "outputs": [
    {
     "name": "stdout",
     "output_type": "stream",
     "text": [
      "Hello,Lisa.Good Morning!\n"
     ]
    }
   ],
   "source": [
    "def greet (name):\n",
    "    print(\"Hello,\"+name+\".Good Morning!\")\n",
    "greet('Lisa')"
   ]
  },
  {
   "cell_type": "code",
   "execution_count": 10,
   "id": "39267c8d-62fb-4f6f-8396-a943bd95ebb1",
   "metadata": {},
   "outputs": [
    {
     "name": "stdout",
     "output_type": "stream",
     "text": [
      "Hello Krishna,Good morning!\n",
      "Hello Radha,How do you do?\n"
     ]
    }
   ],
   "source": [
    "def greet(name,msg='Good morning!'):\n",
    "    print('Hello',name+','+msg)\n",
    "greet('Krishna')\n",
    "greet('Radha','How do you do?')\n"
   ]
  },
  {
   "cell_type": "code",
   "execution_count": 11,
   "id": "1f489870-b566-41a3-9ba0-f7643a7f4ad1",
   "metadata": {},
   "outputs": [
    {
     "name": "stdout",
     "output_type": "stream",
     "text": [
      "Hello John\n",
      "Hello Raheem\n",
      "Hello Monalisa\n",
      "Hello Aryan\n"
     ]
    }
   ],
   "source": [
    "def greet(*names):\n",
    "    for name in names:\n",
    "        print('Hello',name)\n",
    "greet('John','Raheem','Monalisa','Aryan')"
   ]
  },
  {
   "cell_type": "code",
   "execution_count": 12,
   "id": "8af449ed-112b-41ad-a60b-23d121051fad",
   "metadata": {},
   "outputs": [],
   "source": [
    "import numpy"
   ]
  },
  {
   "cell_type": "code",
   "execution_count": 13,
   "id": "ef88e47b-aace-46fb-b549-5be6d17e600c",
   "metadata": {},
   "outputs": [],
   "source": [
    "import numpy as np"
   ]
  },
  {
   "cell_type": "code",
   "execution_count": 18,
   "id": "6750c349-4bdb-41df-b64b-8eb2635c69b9",
   "metadata": {},
   "outputs": [
    {
     "name": "stdout",
     "output_type": "stream",
     "text": [
      "[[[8767625894238]\n",
      "  [9876546789876]\n",
      "  [9876543456789]\n",
      "  [8765453456789]]]\n"
     ]
    }
   ],
   "source": [
    "arr=np.array([[[8767625894238],[9876546789876],[9876543456789],[8765453456789]]])\n",
    "print (arr)"
   ]
  },
  {
   "cell_type": "code",
   "execution_count": 17,
   "id": "cac9ace2-cc17-4c71-b726-c21b04166a7a",
   "metadata": {},
   "outputs": [
    {
     "name": "stdout",
     "output_type": "stream",
     "text": [
      "[[[87687654678]\n",
      "  [77654567890]\n",
      "  [98765456789]\n",
      "  [87654456789]]]\n"
     ]
    }
   ],
   "source": [
    "arr=np.array([[[87687654678],[77654567890],[98765456789],[87654456789]]])\n",
    "print(np.sort(arr))"
   ]
  },
  {
   "cell_type": "code",
   "execution_count": null,
   "id": "d1d062a2-ef06-4073-b1ea-c07fbac60324",
   "metadata": {},
   "outputs": [],
   "source": []
  }
 ],
 "metadata": {
  "kernelspec": {
   "display_name": "Python 3 (ipykernel)",
   "language": "python",
   "name": "python3"
  },
  "language_info": {
   "codemirror_mode": {
    "name": "ipython",
    "version": 3
   },
   "file_extension": ".py",
   "mimetype": "text/x-python",
   "name": "python",
   "nbconvert_exporter": "python",
   "pygments_lexer": "ipython3",
   "version": "3.11.7"
  }
 },
 "nbformat": 4,
 "nbformat_minor": 5
}
